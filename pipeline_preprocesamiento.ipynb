{
 "cells": [
  {
   "metadata": {
    "ExecuteTime": {
     "end_time": "2025-06-13T21:41:33.152767Z",
     "start_time": "2025-06-13T21:41:33.087488Z"
    }
   },
   "cell_type": "code",
   "source": [
    "import pandas as pd\n",
    "import numpy as np\n",
    "import re\n",
    "from sklearn.preprocessing import MinMaxScaler, OneHotEncoder\n",
    "import joblib\n",
    "\n",
    "# 1. Cargar datos\n",
    "data = pd.read_csv('zonaprop_propiedades.csv')\n"
   ],
   "id": "110671358fa28a0d",
   "outputs": [],
   "execution_count": 1
  },
  {
   "metadata": {
    "ExecuteTime": {
     "end_time": "2025-06-13T21:41:33.164108Z",
     "start_time": "2025-06-13T21:41:33.160764Z"
    }
   },
   "cell_type": "code",
   "source": [
    "# 2. Procesar tipo de vivienda\n",
    "def obtener_clase(valor):\n",
    "    if pd.isnull(valor):\n",
    "        return None\n",
    "    return valor.split('·')[0].strip()\n",
    "data['vivienda'] = data['title'].apply(obtener_clase)\n"
   ],
   "id": "c4bac83eef8878c7",
   "outputs": [],
   "execution_count": 2
  },
  {
   "metadata": {
    "ExecuteTime": {
     "end_time": "2025-06-13T21:41:33.179126Z",
     "start_time": "2025-06-13T21:41:33.168105Z"
    }
   },
   "cell_type": "code",
   "source": [
    "# 3. Procesar precio\n",
    "ARS_TO_USD = 1 / 1200 # Tasa de conversión aproximada, ajustar según sea necesario\n",
    "def convertir_precio(valor):\n",
    "    if pd.isnull(valor):\n",
    "        return None\n",
    "    try:\n",
    "        partes = valor.split()\n",
    "        moneda = partes[0]\n",
    "        numero_str = partes[1].replace('.', '').replace(',', '')\n",
    "        numero = int(numero_str)\n",
    "        if moneda == 'USD':\n",
    "            return numero\n",
    "        elif moneda == 'ARS':\n",
    "            return int(numero * ARS_TO_USD)\n",
    "        else:\n",
    "            return None\n",
    "    except:\n",
    "        return None\n",
    "data['price'] = data['rent_price'].apply(convertir_precio)\n"
   ],
   "id": "35dda2e152ff5c10",
   "outputs": [],
   "execution_count": 3
  },
  {
   "metadata": {
    "ExecuteTime": {
     "end_time": "2025-06-13T21:41:33.283343Z",
     "start_time": "2025-06-13T21:41:33.279725Z"
    }
   },
   "cell_type": "code",
   "source": [
    "# 4. Procesar expensas\n",
    "def convertir_expensas(valor):\n",
    "    if pd.isnull(valor):\n",
    "        return None\n",
    "    if \"No disponible\" in valor:\n",
    "        return None\n",
    "    try:\n",
    "        numero_str = valor.replace('Expensas $', '').strip().replace('.', '').replace(',', '')\n",
    "        numero = int(numero_str)\n",
    "        return numero\n",
    "    except:\n",
    "        return None\n",
    "data['expenses'] = data['expenses_price'].apply(convertir_expensas)\n"
   ],
   "id": "63f581d174a4350b",
   "outputs": [],
   "execution_count": 4
  },
  {
   "metadata": {
    "ExecuteTime": {
     "end_time": "2025-06-13T21:41:33.371830Z",
     "start_time": "2025-06-13T21:41:33.362623Z"
    }
   },
   "cell_type": "code",
   "source": [
    "# 5. Extraer variables numéricas\n",
    "def extraer_numero_regex(valor):\n",
    "    if pd.isnull(valor):\n",
    "        return None\n",
    "    try:\n",
    "        match = re.search(r'(\\d+(?:[.,]\\d+)?)', valor)\n",
    "        if match:\n",
    "            numero_str = match.group(1).replace(',', '.')\n",
    "            if '.' in numero_str:\n",
    "                return float(numero_str)\n",
    "            else:\n",
    "                return int(numero_str)\n",
    "        else:\n",
    "            return None\n",
    "    except:\n",
    "        return None\n",
    "\n",
    "columnas_mapeo = {\n",
    "    'icon-stotal': 'm2_totales',\n",
    "    'icon-scubierta': 'm2_cubiertos',\n",
    "    'icon-ambiente': 'ambientes',\n",
    "    'icon-bano': 'baños',\n",
    "    'icon-cochera': 'cocheras',\n",
    "    'icon-dormitorio': 'dormitorios'\n",
    "}\n",
    "for col_original, col_nueva in columnas_mapeo.items():\n",
    "    data[col_nueva] = data[col_original].apply(extraer_numero_regex)\n"
   ],
   "id": "7b0aad688262e6ca",
   "outputs": [],
   "execution_count": 5
  },
  {
   "metadata": {
    "ExecuteTime": {
     "end_time": "2025-06-13T21:41:33.401194Z",
     "start_time": "2025-06-13T21:41:33.397028Z"
    }
   },
   "cell_type": "code",
   "source": [
    "# 6. Procesar antigüedad\n",
    "def convertir_antiguedad(valor):\n",
    "    if pd.isnull(valor):\n",
    "        return None\n",
    "    if 'A estrenar' in valor:\n",
    "        return 0\n",
    "    try:\n",
    "        match = re.search(r'\\d+', valor)\n",
    "        if match:\n",
    "            return int(match.group(0))\n",
    "        else:\n",
    "            return None\n",
    "    except:\n",
    "        return None\n",
    "data['antiguedad'] = data['icon-antiguedad'].apply(convertir_antiguedad)\n"
   ],
   "id": "ff67c109d16107ea",
   "outputs": [],
   "execution_count": 6
  },
  {
   "metadata": {
    "ExecuteTime": {
     "end_time": "2025-06-13T21:41:33.429937Z",
     "start_time": "2025-06-13T21:41:33.423700Z"
    }
   },
   "cell_type": "code",
   "source": [
    "# 7. Procesar features generales\n",
    "data['general_features'] = data['general_features'].fillna('').astype(str)\n",
    "def extract_plants(text):\n",
    "    match = re.search(r'Cantidad plantas\\s*:\\s*(\\d+|5 o más)', text)\n",
    "    if match:\n",
    "        if match.group(1) == '5 o más':\n",
    "            return 5\n",
    "        return int(match.group(1))\n",
    "    return 1\n",
    "def has_pool(text):\n",
    "    return 'sí' if 'Pileta' in text else 'no'\n",
    "def is_credit_compatible(text):\n",
    "    return 'sí' if 'Apto profesional' in text else 'no'\n",
    "data['Cantidad_plantas'] = data['general_features'].apply(extract_plants)\n",
    "data['Pileta'] = data['general_features'].apply(has_pool)\n",
    "data['Apto_credito'] = data['general_features'].apply(is_credit_compatible)\n"
   ],
   "id": "a2945ffe3071696e",
   "outputs": [],
   "execution_count": 7
  },
  {
   "metadata": {
    "ExecuteTime": {
     "end_time": "2025-06-13T21:41:33.457479Z",
     "start_time": "2025-06-13T21:41:33.454481Z"
    }
   },
   "cell_type": "code",
   "source": [
    "# 8. Seleccionar columnas relevantes\n",
    "columns_to_keep = [\n",
    "    'Cantidad_plantas', 'Pileta', 'Apto_credito', 'antiguedad', 'dormitorios',\n",
    "    'cocheras', 'baños', 'ambientes', 'm2_totales', 'm2_cubiertos', 'expenses',\n",
    "    'price', 'vivienda'\n",
    "]\n",
    "data = data[columns_to_keep]\n"
   ],
   "id": "9848bfa6764cd155",
   "outputs": [],
   "execution_count": 8
  },
  {
   "metadata": {
    "ExecuteTime": {
     "end_time": "2025-06-13T21:41:33.488479Z",
     "start_time": "2025-06-13T21:41:33.478479Z"
    }
   },
   "cell_type": "code",
   "source": [
    "# 9. Eliminar outliers extremos (3*IQR)\n",
    "def get_extreme_outliers(df, column):\n",
    "    Q1 = df[column].quantile(0.25)\n",
    "    Q3 = df[column].quantile(0.75)\n",
    "    IQR = Q3 - Q1\n",
    "    lower_bound = Q1 - 3 * IQR\n",
    "    upper_bound = Q3 + 3 * IQR\n",
    "    outliers = df[(df[column] < lower_bound) | (df[column] > upper_bound)]\n",
    "    return outliers\n",
    "columns_numeric = ['price', 'm2_totales', 'm2_cubiertos', 'dormitorios', 'baños', 'antiguedad']\n",
    "extreme_outliers = pd.DataFrame()\n",
    "for column in columns_numeric:\n",
    "    outliers = get_extreme_outliers(data, column)\n",
    "    extreme_outliers = pd.concat([extreme_outliers, outliers])\n",
    "extreme_outliers = extreme_outliers.drop_duplicates()\n",
    "data = data.drop(index=extreme_outliers.index)\n"
   ],
   "id": "85e11f71833c9fa0",
   "outputs": [],
   "execution_count": 9
  },
  {
   "metadata": {
    "ExecuteTime": {
     "end_time": "2025-06-13T21:41:33.522805Z",
     "start_time": "2025-06-13T21:41:33.504782Z"
    }
   },
   "cell_type": "code",
   "source": [
    "# 10. Eliminar duplicados\n",
    "data = data.drop_duplicates()\n"
   ],
   "id": "2a3b182e42b316ce",
   "outputs": [],
   "execution_count": 10
  },
  {
   "metadata": {
    "ExecuteTime": {
     "end_time": "2025-06-13T21:41:33.556051Z",
     "start_time": "2025-06-13T21:41:33.552274Z"
    }
   },
   "cell_type": "code",
   "source": [
    "# 11. Eliminar filas con \"No disponible\" en vivienda\n",
    "data = data[~data[\"vivienda\"].str.strip().str.lower().eq(\"no disponible\")]\n"
   ],
   "id": "cdd027cd0712ce3e",
   "outputs": [],
   "execution_count": 11
  },
  {
   "metadata": {
    "ExecuteTime": {
     "end_time": "2025-06-13T21:41:33.612020Z",
     "start_time": "2025-06-13T21:41:33.591591Z"
    }
   },
   "cell_type": "code",
   "source": [
    "# 12. Imputar valores nulos\n",
    "columnas_media = ['antiguedad', 'dormitorios', 'baños', 'ambientes', 'm2_totales', 'm2_cubiertos','expenses']\n",
    "mask_casas = data['vivienda'].str.contains('Casa', case=False, na=False)\n",
    "data.loc[mask_casas, 'expenses'] = data.loc[mask_casas, 'expenses'].fillna(0)\n",
    "for columna in columnas_media:\n",
    "    data[columna] = data.groupby('vivienda')[columna].transform(lambda x: x.fillna(round(x.mean(), 0)))\n",
    "data['cocheras'] = data['cocheras'].fillna(0)\n",
    "data = data.dropna(subset=['price'])\n"
   ],
   "id": "3b8f6057907fac82",
   "outputs": [],
   "execution_count": 12
  },
  {
   "metadata": {
    "ExecuteTime": {
     "end_time": "2025-06-13T21:41:33.656912Z",
     "start_time": "2025-06-13T21:41:33.640912Z"
    }
   },
   "cell_type": "code",
   "source": [
    "# 13. Estandarizar variables numéricas, menos precio porque es la variable objetivo y es logarítmica\n",
    "columnas_salida = ['Cantidad_plantas', 'antiguedad', 'dormitorios', 'cocheras', 'baños',\n",
    "                   'ambientes', 'm2_totales', 'm2_cubiertos', 'expenses']\n",
    "scaler = MinMaxScaler()\n",
    "scaled_values = scaler.fit_transform(data[columnas_salida])\n",
    "df_scaled = pd.DataFrame(scaled_values, columns=columnas_salida, index=data.index)\n",
    "data[columnas_salida] = df_scaled\n",
    "\n",
    "#Logaritmo en la variable objetivo 'price'\n",
    "data['price'] = np.log1p(data['price'])\n"
   ],
   "id": "dcb241857ffedb26",
   "outputs": [],
   "execution_count": 13
  },
  {
   "metadata": {
    "ExecuteTime": {
     "end_time": "2025-06-13T21:41:33.686957Z",
     "start_time": "2025-06-13T21:41:33.675153Z"
    }
   },
   "cell_type": "code",
   "source": [
    "# 14. Codificar variables categóricas\n",
    "columnas_categoricas = [\"Pileta\",\"Apto_credito\",\"vivienda\"]\n",
    "onehot_encoder = OneHotEncoder(sparse_output=False, handle_unknown='ignore', drop=\"first\")\n",
    "encoded_data = onehot_encoder.fit_transform(data[columnas_categoricas])\n",
    "feature_names = onehot_encoder.get_feature_names_out(columnas_categoricas)\n",
    "encoded_df = pd.DataFrame(encoded_data, columns=feature_names, index=data.index)\n",
    "data = data.drop(columns=columnas_categoricas)\n",
    "data = pd.concat([data, encoded_df], axis=1)\n"
   ],
   "id": "afed44a592727e4a",
   "outputs": [],
   "execution_count": 14
  },
  {
   "metadata": {
    "ExecuteTime": {
     "end_time": "2025-06-13T21:41:33.712641Z",
     "start_time": "2025-06-13T21:41:33.700956Z"
    }
   },
   "cell_type": "code",
   "source": [
    "# 15. Guardar el dataset final y los objetos de transformación\n",
    "data.to_csv(\"dataset.csv\", index=False)\n",
    "joblib.dump(scaler, 'models/minmaxscaler.joblib')\n",
    "joblib.dump(onehot_encoder, 'models/onehotencoder.joblib')\n",
    "print(\"Preprocesamiento finalizado y archivos guardados.\")\n"
   ],
   "id": "91a4de812634f41f",
   "outputs": [
    {
     "name": "stdout",
     "output_type": "stream",
     "text": [
      "Preprocesamiento finalizado y archivos guardados.\n"
     ]
    }
   ],
   "execution_count": 15
  }
 ],
 "metadata": {
  "kernelspec": {
   "display_name": "Python 3",
   "language": "python",
   "name": "python3"
  },
  "language_info": {
   "codemirror_mode": {
    "name": "ipython",
    "version": 2
   },
   "file_extension": ".py",
   "mimetype": "text/x-python",
   "name": "python",
   "nbconvert_exporter": "python",
   "pygments_lexer": "ipython2",
   "version": "2.7.6"
  }
 },
 "nbformat": 4,
 "nbformat_minor": 5
}
